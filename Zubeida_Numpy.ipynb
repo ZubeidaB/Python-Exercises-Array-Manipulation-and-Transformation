{
 "cells": [
  {
   "cell_type": "markdown",
   "metadata": {},
   "source": [
    "# Exercises with Python\n",
    "\n",
    "\n",
    "\n",
    "\n",
    "https://docs.python.org/\n",
    "\n",
    "https://docs.scipy.org/doc/numpy/\n",
    "\n",
    "\n"
   ]
  },
  {
   "cell_type": "code",
   "execution_count": 1,
   "metadata": {},
   "outputs": [],
   "source": [
    "import numpy as np"
   ]
  },
  {
   "cell_type": "markdown",
   "metadata": {},
   "source": [
    "## Numpy\n",
    "### Exercise 1\n",
    "#### Creat an array of 450 random integers between -10 and 10\n",
    "\n",
    "https://docs.scipy.org/doc/numpy-1.15.1/reference/generated/numpy.random.randint.html"
   ]
  },
  {
   "cell_type": "code",
   "execution_count": 2,
   "metadata": {},
   "outputs": [
    {
     "data": {
      "text/plain": [
       "array([ -7,   9,  -3,  -7,   5,   0,   9,   2,   7,   9,   9,   4,   7,\n",
       "         0,  -1,   2,  -3,  -1,  -6,  -7,  -2,  -1,  -3,  -4,   6,   3,\n",
       "        -5,   7,  -1,  -5,  -8,  -7,  -8, -10,   8,   4,  -3,   9,   5,\n",
       "         8,   5,  -7,  -6,   7,  -4,   2,   5,  -5,   2,  -6,   9,   3,\n",
       "         7,  -8,   3,  -4,   9,   0,  -1,  -6,  -7,   4,  -5,  -8,  -5,\n",
       "         1,   8,   5,   6, -10,   2,  -4,   9,   1,   3,  -8,   4,   0,\n",
       "         3,   5,   4,   6,   7,   1,  -3,  -6,   4,   7,  -3,   8,   1,\n",
       "         3,  -2,  -2,   6,   1,  -1,  -1, -10,   7,  -5,  -6,  -3,  -1,\n",
       "        -8,  -1,  -2,  -9,  -3,   0,   5,   7,  -9,  -3,  -2,  -6,  -3,\n",
       "        -4,  -2,  -5,  -7,   7,   6,   5,   1,  -7,   3, -10,   5,  -5,\n",
       "         7,   1,  -5,   4,   4,   1,  -4, -10,   9,   0,   0,  -3,   8,\n",
       "         4,  -9,   0,  -5,   2,  -1,  -9,   2,  -6,  -1,   6,  -6,  -1,\n",
       "        -3,   2,   8,  -8,  -8,   4,  -1,   8,   2,   6,  -2,   9,   4,\n",
       "         6,   9,  -2,  -2,   4,  -3,   5,   1,  -5,  -4,   8,   6, -10,\n",
       "         8,   1,   5,   2,   4,  -6,  -4,  -7,   3,  -6,  -1,  -4,   2,\n",
       "         9,  -1,  -1,   8,   6,   1,  -8,   6,   0,   1,   0,   0,   9,\n",
       "         3,   1,   3,  -7,   8,   2,  -3,  -1,   3,   0,  -5,   6,  -1,\n",
       "         3,  -1,  -6,  -1,   5,   3,   2,  -6,   4,   6,   7,  -3,   3,\n",
       "         9,  -6,   2, -10,   0, -10,  -9,  -2,  -6,   5,   0,  -8,   5,\n",
       "        -4,  -9,  -5,   2,  -4,   8,  -7,  -2,  -6,   0,   7,   8,  -8,\n",
       "        -2,   9,  -1,  -6,  -6,   5,  -8,  -6,   5,   4,  -7,   0,   0,\n",
       "         9,  -1,   2,   8,  -6,   2,  -3,   1,  -6,   1,   9,  -9,   3,\n",
       "         5,  -4,   4,  -6,   8,   4,   8,   7,  -7,  -3,   7,   6,  -3,\n",
       "         8,  -2, -10,  -1,  -6,   7,   7,   6,  -2,  -1,  -1, -10,   2,\n",
       "        -4,  -9,  -5,   6, -10,   9, -10,  -8,   9,   7,   4,   4,  -8,\n",
       "         6,  -8,   1,  -8,   9,  -8,  -3,   5,   9,   9,  -5,  -3,   4,\n",
       "        -5,  -8,   6,  -4,   8,   9,   8,   6,   7,  -2,   8,   8,   1,\n",
       "         5,  -2,   6,   5,  -8,  -7, -10,  -3,   7,  -6,   4, -10,  -3,\n",
       "        -2,   4,   2,   6,  -3, -10,   0,  -4,   0,  -8,   4,  -3,   8,\n",
       "        -5,  -7,   1,  -9,   9,  -7,   9,  -8,   6,   6,  -9,  -8, -10,\n",
       "        -6, -10,  -6,  -8,   4,   9,  -7,   1,   6,   5,   0,  -9, -10,\n",
       "         6,  -3,  -2,   6,  -8,  -9,   5,   6,   0,  -3, -10,  -2,  -3,\n",
       "         3,   8,   0,   8,  -1,   1,   7,  -2,  -3,   3,  -9,  -4,   6,\n",
       "        -8,   1,  -9, -10,  -5,   6,  -1,  -2,   4,   6,   4,   1,   2,\n",
       "        -6,  -9,  -3,   2,  -5,   9,   3,   8])"
      ]
     },
     "execution_count": 2,
     "metadata": {},
     "output_type": "execute_result"
    }
   ],
   "source": [
    "array = np.random.randint(low=-10, high=10, size=450, dtype='int')\n",
    "\n",
    "array"
   ]
  },
  {
   "cell_type": "markdown",
   "metadata": {},
   "source": [
    "#### Resize it as a 5x70 matrix Is there a problem? If there is, correct it.\n",
    "\n",
    "We check what dimension our array has:"
   ]
  },
  {
   "cell_type": "code",
   "execution_count": 3,
   "metadata": {},
   "outputs": [
    {
     "data": {
      "text/plain": [
       "(450,)"
      ]
     },
     "execution_count": 3,
     "metadata": {},
     "output_type": "execute_result"
    }
   ],
   "source": [
    "array.shape"
   ]
  },
  {
   "cell_type": "code",
   "execution_count": 4,
   "metadata": {},
   "outputs": [
    {
     "data": {
      "text/plain": [
       "array([[ -7,   9,  -3,  -7,   5,   0,   9,   2,   7,   9,   9,   4,   7,\n",
       "          0,  -1,   2,  -3,  -1,  -6,  -7,  -2,  -1,  -3,  -4,   6,   3,\n",
       "         -5,   7,  -1,  -5,  -8,  -7,  -8, -10,   8,   4,  -3,   9,   5,\n",
       "          8,   5,  -7,  -6,   7,  -4,   2,   5,  -5,   2,  -6,   9,   3,\n",
       "          7,  -8,   3,  -4,   9,   0,  -1,  -6,  -7,   4,  -5,  -8,  -5,\n",
       "          1,   8,   5,   6, -10,   2,  -4,   9,   1,   3,  -8,   4,   0,\n",
       "          3,   5,   4,   6,   7,   1,  -3,  -6,   4,   7,  -3,   8],\n",
       "       [  1,   3,  -2,  -2,   6,   1,  -1,  -1, -10,   7,  -5,  -6,  -3,\n",
       "         -1,  -8,  -1,  -2,  -9,  -3,   0,   5,   7,  -9,  -3,  -2,  -6,\n",
       "         -3,  -4,  -2,  -5,  -7,   7,   6,   5,   1,  -7,   3, -10,   5,\n",
       "         -5,   7,   1,  -5,   4,   4,   1,  -4, -10,   9,   0,   0,  -3,\n",
       "          8,   4,  -9,   0,  -5,   2,  -1,  -9,   2,  -6,  -1,   6,  -6,\n",
       "         -1,  -3,   2,   8,  -8,  -8,   4,  -1,   8,   2,   6,  -2,   9,\n",
       "          4,   6,   9,  -2,  -2,   4,  -3,   5,   1,  -5,  -4,   8],\n",
       "       [  6, -10,   8,   1,   5,   2,   4,  -6,  -4,  -7,   3,  -6,  -1,\n",
       "         -4,   2,   9,  -1,  -1,   8,   6,   1,  -8,   6,   0,   1,   0,\n",
       "          0,   9,   3,   1,   3,  -7,   8,   2,  -3,  -1,   3,   0,  -5,\n",
       "          6,  -1,   3,  -1,  -6,  -1,   5,   3,   2,  -6,   4,   6,   7,\n",
       "         -3,   3,   9,  -6,   2, -10,   0, -10,  -9,  -2,  -6,   5,   0,\n",
       "         -8,   5,  -4,  -9,  -5,   2,  -4,   8,  -7,  -2,  -6,   0,   7,\n",
       "          8,  -8,  -2,   9,  -1,  -6,  -6,   5,  -8,  -6,   5,   4],\n",
       "       [ -7,   0,   0,   9,  -1,   2,   8,  -6,   2,  -3,   1,  -6,   1,\n",
       "          9,  -9,   3,   5,  -4,   4,  -6,   8,   4,   8,   7,  -7,  -3,\n",
       "          7,   6,  -3,   8,  -2, -10,  -1,  -6,   7,   7,   6,  -2,  -1,\n",
       "         -1, -10,   2,  -4,  -9,  -5,   6, -10,   9, -10,  -8,   9,   7,\n",
       "          4,   4,  -8,   6,  -8,   1,  -8,   9,  -8,  -3,   5,   9,   9,\n",
       "         -5,  -3,   4,  -5,  -8,   6,  -4,   8,   9,   8,   6,   7,  -2,\n",
       "          8,   8,   1,   5,  -2,   6,   5,  -8,  -7, -10,  -3,   7],\n",
       "       [ -6,   4, -10,  -3,  -2,   4,   2,   6,  -3, -10,   0,  -4,   0,\n",
       "         -8,   4,  -3,   8,  -5,  -7,   1,  -9,   9,  -7,   9,  -8,   6,\n",
       "          6,  -9,  -8, -10,  -6, -10,  -6,  -8,   4,   9,  -7,   1,   6,\n",
       "          5,   0,  -9, -10,   6,  -3,  -2,   6,  -8,  -9,   5,   6,   0,\n",
       "         -3, -10,  -2,  -3,   3,   8,   0,   8,  -1,   1,   7,  -2,  -3,\n",
       "          3,  -9,  -4,   6,  -8,   1,  -9, -10,  -5,   6,  -1,  -2,   4,\n",
       "          6,   4,   1,   2,  -6,  -9,  -3,   2,  -5,   9,   3,   8]])"
      ]
     },
     "execution_count": 4,
     "metadata": {},
     "output_type": "execute_result"
    }
   ],
   "source": [
    "matrix = array.reshape(5,90)\n",
    "matrix"
   ]
  },
  {
   "cell_type": "code",
   "execution_count": 5,
   "metadata": {},
   "outputs": [
    {
     "data": {
      "text/plain": [
       "(5, 90)"
      ]
     },
     "execution_count": 5,
     "metadata": {},
     "output_type": "execute_result"
    }
   ],
   "source": [
    "matrix.shape"
   ]
  },
  {
   "cell_type": "markdown",
   "metadata": {},
   "source": [
    "#### Get the positive numbers from that matrix using boolean indexing"
   ]
  },
  {
   "cell_type": "code",
   "execution_count": 6,
   "metadata": {},
   "outputs": [
    {
     "data": {
      "text/plain": [
       "array([[False,  True, False, False,  True, False,  True,  True,  True,\n",
       "         True,  True,  True,  True, False, False,  True, False, False,\n",
       "        False, False, False, False, False, False,  True,  True, False,\n",
       "         True, False, False, False, False, False, False,  True,  True,\n",
       "        False,  True,  True,  True,  True, False, False,  True, False,\n",
       "         True,  True, False,  True, False,  True,  True,  True, False,\n",
       "         True, False,  True, False, False, False, False,  True, False,\n",
       "        False, False,  True,  True,  True,  True, False,  True, False,\n",
       "         True,  True,  True, False,  True, False,  True,  True,  True,\n",
       "         True,  True,  True, False, False,  True,  True, False,  True],\n",
       "       [ True,  True, False, False,  True,  True, False, False, False,\n",
       "         True, False, False, False, False, False, False, False, False,\n",
       "        False, False,  True,  True, False, False, False, False, False,\n",
       "        False, False, False, False,  True,  True,  True,  True, False,\n",
       "         True, False,  True, False,  True,  True, False,  True,  True,\n",
       "         True, False, False,  True, False, False, False,  True,  True,\n",
       "        False, False, False,  True, False, False,  True, False, False,\n",
       "         True, False, False, False,  True,  True, False, False,  True,\n",
       "        False,  True,  True,  True, False,  True,  True,  True,  True,\n",
       "        False, False,  True, False,  True,  True, False, False,  True],\n",
       "       [ True, False,  True,  True,  True,  True,  True, False, False,\n",
       "        False,  True, False, False, False,  True,  True, False, False,\n",
       "         True,  True,  True, False,  True, False,  True, False, False,\n",
       "         True,  True,  True,  True, False,  True,  True, False, False,\n",
       "         True, False, False,  True, False,  True, False, False, False,\n",
       "         True,  True,  True, False,  True,  True,  True, False,  True,\n",
       "         True, False,  True, False, False, False, False, False, False,\n",
       "         True, False, False,  True, False, False, False,  True, False,\n",
       "         True, False, False, False, False,  True,  True, False, False,\n",
       "         True, False, False, False,  True, False, False,  True,  True],\n",
       "       [False, False, False,  True, False,  True,  True, False,  True,\n",
       "        False,  True, False,  True,  True, False,  True,  True, False,\n",
       "         True, False,  True,  True,  True,  True, False, False,  True,\n",
       "         True, False,  True, False, False, False, False,  True,  True,\n",
       "         True, False, False, False, False,  True, False, False, False,\n",
       "         True, False,  True, False, False,  True,  True,  True,  True,\n",
       "        False,  True, False,  True, False,  True, False, False,  True,\n",
       "         True,  True, False, False,  True, False, False,  True, False,\n",
       "         True,  True,  True,  True,  True, False,  True,  True,  True,\n",
       "         True, False,  True,  True, False, False, False, False,  True],\n",
       "       [False,  True, False, False, False,  True,  True,  True, False,\n",
       "        False, False, False, False, False,  True, False,  True, False,\n",
       "        False,  True, False,  True, False,  True, False,  True,  True,\n",
       "        False, False, False, False, False, False, False,  True,  True,\n",
       "        False,  True,  True,  True, False, False, False,  True, False,\n",
       "        False,  True, False, False,  True,  True, False, False, False,\n",
       "        False, False,  True,  True, False,  True, False,  True,  True,\n",
       "        False, False,  True, False, False,  True, False,  True, False,\n",
       "        False, False,  True, False, False,  True,  True,  True,  True,\n",
       "         True, False, False, False,  True, False,  True,  True,  True]])"
      ]
     },
     "execution_count": 6,
     "metadata": {},
     "output_type": "execute_result"
    }
   ],
   "source": [
    "matrix>0"
   ]
  },
  {
   "cell_type": "code",
   "execution_count": 7,
   "metadata": {},
   "outputs": [
    {
     "data": {
      "text/plain": [
       "array([9, 5, 9, 2, 7, 9, 9, 4, 7, 2, 6, 3, 7, 8, 4, 9, 5, 8, 5, 7, 2, 5,\n",
       "       2, 9, 3, 7, 3, 9, 4, 1, 8, 5, 6, 2, 9, 1, 3, 4, 3, 5, 4, 6, 7, 1,\n",
       "       4, 7, 8, 1, 3, 6, 1, 7, 5, 7, 7, 6, 5, 1, 3, 5, 7, 1, 4, 4, 1, 9,\n",
       "       8, 4, 2, 2, 6, 2, 8, 4, 8, 2, 6, 9, 4, 6, 9, 4, 5, 1, 8, 6, 8, 1,\n",
       "       5, 2, 4, 3, 2, 9, 8, 6, 1, 6, 1, 9, 3, 1, 3, 8, 2, 3, 6, 3, 5, 3,\n",
       "       2, 4, 6, 7, 3, 9, 2, 5, 5, 2, 8, 7, 8, 9, 5, 5, 4, 9, 2, 8, 2, 1,\n",
       "       1, 9, 3, 5, 4, 8, 4, 8, 7, 7, 6, 8, 7, 7, 6, 2, 6, 9, 9, 7, 4, 4,\n",
       "       6, 1, 9, 5, 9, 9, 4, 6, 8, 9, 8, 6, 7, 8, 8, 1, 5, 6, 5, 7, 4, 4,\n",
       "       2, 6, 4, 8, 1, 9, 9, 6, 6, 4, 9, 1, 6, 5, 6, 6, 5, 6, 3, 8, 8, 1,\n",
       "       7, 3, 6, 1, 6, 4, 6, 4, 1, 2, 2, 9, 3, 8])"
      ]
     },
     "execution_count": 7,
     "metadata": {},
     "output_type": "execute_result"
    }
   ],
   "source": [
    "matrix[matrix>0]"
   ]
  },
  {
   "cell_type": "markdown",
   "metadata": {},
   "source": [
    "#### Obtain with a function the non-duplicated data"
   ]
  },
  {
   "cell_type": "code",
   "execution_count": 8,
   "metadata": {},
   "outputs": [
    {
     "data": {
      "text/plain": [
       "list"
      ]
     },
     "execution_count": 8,
     "metadata": {},
     "output_type": "execute_result"
    }
   ],
   "source": [
    "# Example of set\n",
    "L = [1,1,2]\n",
    "type(L)"
   ]
  },
  {
   "cell_type": "code",
   "execution_count": 9,
   "metadata": {},
   "outputs": [
    {
     "data": {
      "text/plain": [
       "{1, 2}"
      ]
     },
     "execution_count": 9,
     "metadata": {},
     "output_type": "execute_result"
    }
   ],
   "source": [
    "set(L)"
   ]
  },
  {
   "cell_type": "code",
   "execution_count": 10,
   "metadata": {},
   "outputs": [
    {
     "data": {
      "text/plain": [
       "[1, 2]"
      ]
     },
     "execution_count": 10,
     "metadata": {},
     "output_type": "execute_result"
    }
   ],
   "source": [
    "# transformation back to list\n",
    "L = list(set(L))\n",
    "L"
   ]
  },
  {
   "cell_type": "code",
   "execution_count": 11,
   "metadata": {},
   "outputs": [
    {
     "data": {
      "text/plain": [
       "{-10, -9, -8, -7, -6, -5, -4, -3, -2, -1, 0, 1, 2, 3, 4, 5, 6, 7, 8, 9}"
      ]
     },
     "execution_count": 11,
     "metadata": {},
     "output_type": "execute_result"
    }
   ],
   "source": [
    "# array -> list -> set\n",
    "array = list(array)\n",
    "array = set(array)\n",
    "\n",
    "array"
   ]
  },
  {
   "cell_type": "code",
   "execution_count": 12,
   "metadata": {},
   "outputs": [
    {
     "data": {
      "text/plain": [
       "array([  0,   1,   2,   3,   4,   5,   6,   7,   8,   9,  -9, -10,  -1,\n",
       "        -8,  -7,  -6,  -5,  -4,  -3,  -2])"
      ]
     },
     "execution_count": 12,
     "metadata": {},
     "output_type": "execute_result"
    }
   ],
   "source": [
    "# set -> list -> array\n",
    "array = list(array)\n",
    "array = np.array(array)\n",
    "\n",
    "array"
   ]
  },
  {
   "cell_type": "markdown",
   "metadata": {},
   "source": [
    "In a line of code:"
   ]
  },
  {
   "cell_type": "code",
   "execution_count": 13,
   "metadata": {},
   "outputs": [
    {
     "data": {
      "text/plain": [
       "array([  0,   1,   2,   3,   4,   5,   6,   7,   8,   9, -10,  -9,  -8,\n",
       "        -7,  -6,  -5,  -4,  -3,  -1,  -2])"
      ]
     },
     "execution_count": 13,
     "metadata": {},
     "output_type": "execute_result"
    }
   ],
   "source": [
    "no_duplicados = np.array(list(set(array)))\n",
    "no_duplicados"
   ]
  },
  {
   "cell_type": "markdown",
   "metadata": {},
   "source": [
    "#### On the non-duplicated data, obtain the mean and quartiles."
   ]
  },
  {
   "cell_type": "code",
   "execution_count": 14,
   "metadata": {},
   "outputs": [
    {
     "data": {
      "text/plain": [
       "-0.5"
      ]
     },
     "execution_count": 14,
     "metadata": {},
     "output_type": "execute_result"
    }
   ],
   "source": [
    "# we use the mean function\n",
    "np.mean(no_duplicados)"
   ]
  },
  {
   "cell_type": "code",
   "execution_count": 15,
   "metadata": {},
   "outputs": [
    {
     "data": {
      "text/plain": [
       "-5.25"
      ]
     },
     "execution_count": 15,
     "metadata": {},
     "output_type": "execute_result"
    }
   ],
   "source": [
    "# percentiles\n",
    "np.percentile(no_duplicados, 25)"
   ]
  },
  {
   "cell_type": "markdown",
   "metadata": {},
   "source": [
    "#### For this array of non-duplicated elements, add a unit to each element."
   ]
  },
  {
   "cell_type": "code",
   "execution_count": 16,
   "metadata": {},
   "outputs": [
    {
     "name": "stdout",
     "output_type": "stream",
     "text": [
      "[5 6 7 9]\n"
     ]
    }
   ],
   "source": [
    "x = np.array([-5,6,-7,9])\n",
    "print(np.absolute(x)) #Abs"
   ]
  },
  {
   "cell_type": "markdown",
   "metadata": {},
   "source": [
    "#### Create a diagonal matrix"
   ]
  },
  {
   "cell_type": "code",
   "execution_count": 17,
   "metadata": {},
   "outputs": [
    {
     "data": {
      "text/plain": [
       "array([[0, 0, 0],\n",
       "       [0, 1, 0],\n",
       "       [0, 0, 2]])"
      ]
     },
     "execution_count": 17,
     "metadata": {},
     "output_type": "execute_result"
    }
   ],
   "source": [
    "a = np.diag(np.arange(3))\n",
    "a"
   ]
  },
  {
   "cell_type": "code",
   "execution_count": 18,
   "metadata": {},
   "outputs": [
    {
     "data": {
      "text/plain": [
       "array([[0., 0., 0., 0., 0.],\n",
       "       [0., 0., 0., 0., 0.],\n",
       "       [0., 0., 0., 0., 0.]])"
      ]
     },
     "execution_count": 18,
     "metadata": {},
     "output_type": "execute_result"
    }
   ],
   "source": [
    "np.zeros((3,5),dtype=float)"
   ]
  },
  {
   "cell_type": "markdown",
   "metadata": {},
   "source": [
    "Equally divide into n spaces"
   ]
  },
  {
   "cell_type": "code",
   "execution_count": 19,
   "metadata": {},
   "outputs": [
    {
     "data": {
      "text/plain": [
       "array([1.  , 1.25, 1.5 , 1.75, 2.  ])"
      ]
     },
     "execution_count": 19,
     "metadata": {},
     "output_type": "execute_result"
    }
   ],
   "source": [
    "x = np.linspace(1,2,5)\n",
    "x"
   ]
  },
  {
   "cell_type": "code",
   "execution_count": null,
   "metadata": {},
   "outputs": [],
   "source": []
  }
 ],
 "metadata": {
  "kernelspec": {
   "display_name": "Python 3 (ipykernel)",
   "language": "python",
   "name": "python3"
  },
  "language_info": {
   "codemirror_mode": {
    "name": "ipython",
    "version": 3
   },
   "file_extension": ".py",
   "mimetype": "text/x-python",
   "name": "python",
   "nbconvert_exporter": "python",
   "pygments_lexer": "ipython3",
   "version": "3.11.4"
  }
 },
 "nbformat": 4,
 "nbformat_minor": 2
}
